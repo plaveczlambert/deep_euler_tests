{
 "cells": [
  {
   "cell_type": "markdown",
   "id": "direct-radio",
   "metadata": {},
   "source": [
    "# Simulations and plots\n",
    "Comparing the Deep Euler Method with the Euler and Dormand-Prince methods on the Lotka-Volterra equation"
   ]
  },
  {
   "cell_type": "code",
   "execution_count": null,
   "id": "premier-scoop",
   "metadata": {},
   "outputs": [],
   "source": [
    "%matplotlib notebook\n",
    "import math\n",
    "import numpy as np\n",
    "import matplotlib.pyplot as plt\n",
    "import scipy.integrate\n",
    "import h5py\n",
    "from model.DEM import DeepEuler\n",
    "from model.Euler import Euler\n",
    "plt.rcParams.update({\n",
    "    \"text.usetex\": True,\n",
    "    \"font.family\": \"sans-serif\",\n",
    "    \"font.sans-serif\": [\"Helvetica\"],\n",
    "    \"font.size\": 12.0})"
   ]
  },
  {
   "cell_type": "code",
   "execution_count": null,
   "id": "spread-soccer",
   "metadata": {},
   "outputs": [],
   "source": [
    "##Load results from text files, if C++ solvers were used\n",
    "#dem = np.loadtxt('simulations/lotka_dem.txt')\n",
    "#euler = np.loadtxt('simulations/lotka_euler_0.1.txt')"
   ]
  },
  {
   "cell_type": "code",
   "execution_count": null,
   "id": "referenced-wiring",
   "metadata": {},
   "outputs": [],
   "source": [
    "def lotka( t, x):\n",
    "    y = np.empty(x.shape)\n",
    "    y[0] =  x[0] - x[0]*x[1]\n",
    "    y[1] = -x[1] + x[0]*x[1]\n",
    "    return y"
   ]
  },
  {
   "cell_type": "markdown",
   "id": "ready-mechanism",
   "metadata": {},
   "source": [
    "## Integrate the ODE"
   ]
  },
  {
   "cell_type": "code",
   "execution_count": null,
   "id": "middle-speech",
   "metadata": {},
   "outputs": [],
   "source": [
    "sol = scipy.integrate.solve_ivp(lotka, [0, 50], [ 2.0, 1.0], rtol=1e-6, atol=1e-6)"
   ]
  },
  {
   "cell_type": "code",
   "execution_count": null,
   "id": "norman-video",
   "metadata": {},
   "outputs": [],
   "source": [
    "eul_sol = scipy.integrate.solve_ivp(lotka, [0, 50], [ 2.0, 1.0], method=Euler, h=0.1)"
   ]
  },
  {
   "cell_type": "code",
   "execution_count": null,
   "id": "norwegian-cisco",
   "metadata": {},
   "outputs": [],
   "source": [
    "dem_sol = scipy.integrate.solve_ivp(lotka, [0, 50], [ 2.0, 1.0], method=DeepEuler, h=0.1, mode=DeepEuler.MODE_ABSOLUTE_TIMES,\n",
    "                                    traced_model_path=\"training/traced_model_lotka_final_e283_2110141659.pt\")"
   ]
  },
  {
   "cell_type": "markdown",
   "id": "rapid-device",
   "metadata": {},
   "source": [
    "## Plots"
   ]
  },
  {
   "cell_type": "code",
   "execution_count": null,
   "id": "little-international",
   "metadata": {},
   "outputs": [],
   "source": [
    "plt.figure(num=\"Lotka Phase Space\",figsize=(8,6))\n",
    "plt.scatter(sol.y[0,:],sol.y[1,:], s=10, label=\"Dopri\")\n",
    "#plt.scatter(euler[:250,1],euler[:250,2],s=10, label=\"Euler\")\n",
    "plt.scatter(eul_sol.y[0,:350],eul_sol.y[1,:350], s=10, label=\"Euler\")\n",
    "plt.scatter(dem_sol.y[0,:350],dem_sol.y[1,:350], s=10, label=\"DEM\")\n",
    "#plt.scatter(dem[:,1],dem[:,2],s=10, label=\"DEM C++\")\n",
    "plt.xlabel(\"$x_1$\")\n",
    "plt.ylabel(\"$x_2$\")\n",
    "plt.legend()\n",
    "plt.show()"
   ]
  },
  {
   "cell_type": "code",
   "execution_count": null,
   "id": "therapeutic-flash",
   "metadata": {},
   "outputs": [],
   "source": [
    "plt.figure(num=\"Comparison\")\n",
    "plt.plot(sol.t,sol.y[0,:], color=\"black\", label=\"Dopri\")\n",
    "#plt.plot(euler[:,0],euler[:,1], color=\"silver\", label=\"Euler\")\n",
    "plt.plot(eul_sol.t,eul_sol.y[0,:], color=\"purple\", label=\"Euler\")\n",
    "#plt.plot(dem[:,0],dem[:,1], linestyle=\"--\", dashes=(5,5), color=\"cyan\", label=\"DEM\")\n",
    "plt.plot(dem_sol.t,dem_sol.y[0,:], linestyle=\"--\", dashes=(5,5), color=\"orange\", label=\"DEM\")\n",
    "plt.xlabel(\"$t$\")\n",
    "plt.ylabel(\"$x_1$\")\n",
    "plt.xlim([0, 50])\n",
    "plt.legend()\n",
    "plt.show()"
   ]
  }
 ],
 "metadata": {
  "kernelspec": {
   "display_name": "Python 3",
   "language": "python",
   "name": "python3"
  },
  "language_info": {
   "codemirror_mode": {
    "name": "ipython",
    "version": 3
   },
   "file_extension": ".py",
   "mimetype": "text/x-python",
   "name": "python",
   "nbconvert_exporter": "python",
   "pygments_lexer": "ipython3",
   "version": "3.9.1"
  }
 },
 "nbformat": 4,
 "nbformat_minor": 5
}
