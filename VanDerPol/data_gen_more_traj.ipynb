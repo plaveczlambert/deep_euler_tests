{
 "cells": [
  {
   "cell_type": "markdown",
   "id": "stable-testing",
   "metadata": {},
   "source": [
    "Generate learning data (Euler truncation errors) from several trajectories of the Van der Pol equation."
   ]
  },
  {
   "cell_type": "code",
   "execution_count": 5,
   "id": "collect-plymouth",
   "metadata": {},
   "outputs": [],
   "source": [
    "import numpy as np\n",
    "import os\n",
    "import matplotlib.pyplot as plt\n",
    "import scipy.integrate\n",
    "import h5py"
   ]
  },
  {
   "cell_type": "code",
   "execution_count": 2,
   "id": "organized-bathroom",
   "metadata": {},
   "outputs": [
    {
     "name": "stdout",
     "output_type": "stream",
     "text": [
      "(63000, 2)\n"
     ]
    },
    {
     "data": {
      "text/plain": [
       "array([ 1.64139721, -0.48297032])"
      ]
     },
     "execution_count": 2,
     "metadata": {},
     "output_type": "execute_result"
    }
   ],
   "source": [
    "mu = 1.5\n",
    "def vdp( t, x):\n",
    "    y = np.empty(x.shape)\n",
    "    y[0] = -mu*(x[1]*x[1]-1)*x[0]-x[1]\n",
    "    y[1] = x[0]\n",
    "    return y\n",
    "\n",
    "range_x1 = [-5, -1, -0.5, 0, 0.5, 1, 5]\n",
    "range_x0 = [-10, -5, -1, -0.5, 0, 0.5, 1, 5, 10]\n",
    "t_all = np.empty(63000)\n",
    "y_all = np.empty([63000, 2])\n",
    "dydt_all = np.empty([63000, 2])\n",
    "a = 0\n",
    "for x1 in range_x1:\n",
    "    for x0 in range_x0:\n",
    "        if x0 == 0 and x1 == 0:\n",
    "            continue\n",
    "        end = 20\n",
    "        t = np.random.rand(1000)*end\n",
    "        t = np.sort(t)\n",
    "        sol = scipy.integrate.solve_ivp(vdp, [0, end], [x0,x1], t_eval=t, rtol=1e-10, atol=1e-10)\n",
    "        dydt = vdp(t, sol.y)\n",
    "        t_all[a:a+1000] = t\n",
    "        y_all[a:a+1000,:] = sol.y.T\n",
    "        dydt_all[a:a+1000,:] = dydt.T\n",
    "        a += 1000\n",
    "print(y_all.shape)\n",
    "y_all[45245,:]"
   ]
  },
  {
   "cell_type": "markdown",
   "id": "found-preference",
   "metadata": {},
   "source": [
    "Plot"
   ]
  },
  {
   "cell_type": "code",
   "execution_count": 3,
   "id": "fifty-occasions",
   "metadata": {},
   "outputs": [
    {
     "data": {
      "text/plain": [
       "[<matplotlib.lines.Line2D at 0x1a0d2b540a0>]"
      ]
     },
     "execution_count": 3,
     "metadata": {},
     "output_type": "execute_result"
    },
    {
     "data": {
      "image/png": "[encoded data removed]",
      "text/plain": [
       "<Figure size 432x288 with 1 Axes>"
      ]
     },
     "metadata": {
      "needs_background": "light"
     },
     "output_type": "display_data"
    }
   ],
   "source": [
    "plt.figure(num=\"pl1\")\n",
    "plt.plot(sol.t,sol.y[0])\n",
    "plt.plot(sol.t,sol.y[1])"
   ]
  },
  {
   "cell_type": "code",
   "execution_count": 6,
   "id": "forced-richards",
   "metadata": {},
   "outputs": [],
   "source": [
    "if not os.path.isdir('data'):\n",
    "    os.mkdir('data')\n",
    "np.savetxt(\"data/vdp_data_iv.txt\", np.column_stack((t_all, y_all, dydt_all)))"
   ]
  },
  {
   "cell_type": "markdown",
   "id": "digital-invite",
   "metadata": {},
   "source": [
    "Converting data and saving in hdf5 format (next 2 cells)"
   ]
  },
  {
   "cell_type": "code",
   "execution_count": 7,
   "id": "attached-chancellor",
   "metadata": {},
   "outputs": [],
   "source": [
    "def euler_truncation_error(arr, output_size): \n",
    "    #t0 x1 x2 x3 z1 ... z8 dx1 dx2 dx3 dz1 ... dz8\n",
    "    #0   1  2  3 4       11 12  13  14  15      22\n",
    "    dt = arr[1:,0] - arr[:-1,0]\n",
    "    X = np.column_stack((arr[1:,0], arr[:-1,:1+output_size])) #t1 t0 x1(0) x2(0) x3(0) z(0)\n",
    "    dt_m = np.copy(dt)\n",
    "    for n in range(1,output_size):\n",
    "        dt_m = np.column_stack((dt_m,dt))\n",
    "    Y = np.reciprocal(dt_m*dt_m)*(arr[1:,1:output_size+1] - arr[:-1,1:output_size+1] - dt_m*arr[:-1, output_size+1:])\n",
    "    return X,Y"
   ]
  },
  {
   "cell_type": "markdown",
   "id": "ranking-dallas",
   "metadata": {},
   "source": [
    "Generate the learning data from the simulation results. This may take some time. The printing runs until 62000."
   ]
  },
  {
   "cell_type": "code",
   "execution_count": 39,
   "id": "monthly-scheme",
   "metadata": {},
   "outputs": [
    {
     "name": "stdout",
     "output_type": "stream",
     "text": [
      "(63000, 5)\n",
      "498501\n",
      "31406563\n",
      "0\n",
      "1000\n",
      "2000\n",
      "3000\n",
      "4000\n",
      "5000\n",
      "6000\n",
      "7000\n",
      "8000\n",
      "9000\n",
      "10000\n",
      "11000\n",
      "12000\n",
      "13000\n",
      "14000\n",
      "15000\n",
      "16000\n",
      "17000\n",
      "18000\n",
      "19000\n",
      "20000\n",
      "21000\n",
      "22000\n",
      "23000\n",
      "24000\n",
      "25000\n",
      "26000\n",
      "27000\n",
      "28000\n",
      "29000\n",
      "30000\n",
      "31000\n",
      "32000\n",
      "33000\n",
      "34000\n",
      "35000\n",
      "36000\n",
      "37000\n",
      "38000\n",
      "39000\n",
      "40000\n",
      "41000\n",
      "42000\n",
      "43000\n",
      "44000\n",
      "45000\n",
      "46000\n",
      "47000\n",
      "48000\n",
      "49000\n",
      "50000\n",
      "51000\n",
      "52000\n",
      "53000\n",
      "54000\n",
      "55000\n",
      "56000\n",
      "57000\n",
      "58000\n",
      "59000\n",
      "60000\n",
      "61000\n",
      "62000\n"
     ]
    },
    {
     "name": "stderr",
     "output_type": "stream",
     "text": [
      "<ipython-input-7-925e86a7e7ad>:9: RuntimeWarning: divide by zero encountered in reciprocal\n",
      "  Y = np.reciprocal(dt_m*dt_m)*(arr[1:,1:output_size+1] - arr[:-1,1:output_size+1] - dt_m*arr[:-1, output_size+1:])\n",
      "<ipython-input-7-925e86a7e7ad>:9: RuntimeWarning: invalid value encountered in multiply\n",
      "  Y = np.reciprocal(dt_m*dt_m)*(arr[1:,1:output_size+1] - arr[:-1,1:output_size+1] - dt_m*arr[:-1, output_size+1:])\n"
     ]
    },
    {
     "name": "stdout",
     "output_type": "stream",
     "text": [
      "5235482\n"
     ]
    }
   ],
   "source": [
    "path_to_hdf = 'data/vdp_data_iv_dt.hdf5'\n",
    "path_to_txt = 'data/vdp_data_iv.txt'\n",
    "np.random.seed(410) #fix seed for reproducibility\n",
    "\n",
    "arr = np.loadtxt(path_to_txt, dtype=np.float64, delimiter=' ')\n",
    "print(arr.shape)\n",
    "dt = True #whether to use absolute time or time steps\n",
    "l = 1000\n",
    "n = 1000\n",
    "b = 0\n",
    "sum = 0\n",
    "for i in range(1,n):\n",
    "    sum = sum + l - i - 1\n",
    "print(sum)\n",
    "sum = sum*9*7+1000\n",
    "\n",
    "print(sum)\n",
    "    \n",
    "with h5py.File(path_to_hdf, 'a') as f:\n",
    "    f.create_dataset(\n",
    "        str('vdp_X'),\n",
    "        (sum,3 if dt else 4),\n",
    "        dtype   = np.float64,\n",
    "        compression     = 'gzip',\n",
    "        compression_opts= 8\n",
    "        )\n",
    "    f.create_dataset(\n",
    "        str('vdp_Y'),\n",
    "        (sum,2),\n",
    "        dtype   = np.float64,\n",
    "        compression     = 'gzip',\n",
    "        compression_opts= 8\n",
    "        )\n",
    "    X = f['vdp_X']\n",
    "    Y = f['vdp_Y']\n",
    "    x_tmp = np.empty([498501,3])\n",
    "    y_tmp = np.empty([498501,2])\n",
    "    first = 0\n",
    "    last = 0\n",
    "    for u in range(9*7):\n",
    "        print(u*1000)\n",
    "        begin = 0\n",
    "        end = 999\n",
    "        x,y = euler_truncation_error(np.copy(arr[u*1000:(u+1)*1000][0::1]),2)\n",
    "        if dt: \n",
    "            x = np.column_stack((x[:,0] - x[:,1],x[:,2],x[:,3]))\n",
    "        x_tmp[begin:end,:] = x\n",
    "        y_tmp[begin:end,:] = y\n",
    "        for i in range(b+1,n):\n",
    "            for j in range(i):\n",
    "                x,y = euler_truncation_error(np.copy(arr[u*1000:(u+1)*1000][j::i]), 2)\n",
    "                if dt: \n",
    "                    x = np.column_stack((x[:,0] - x[:,1],x[:,2],x[:,3]))\n",
    "                begin = end\n",
    "                end = begin+x.shape[0]\n",
    "                x_tmp[begin:end,:] = x\n",
    "                y_tmp[begin:end,:] = y\n",
    "        mask = np.floor(np.random.random(498501)*6)==4\n",
    "        length = np.count_nonzero(mask)\n",
    "        last = first+length\n",
    "        X[first:last,:] = x_tmp[mask,:]\n",
    "        Y[first:last,:] = y_tmp[mask,:]\n",
    "        first = last\n",
    "        \n",
    "    store_length = last\n",
    "    print(store_length)"
   ]
  },
  {
   "cell_type": "markdown",
   "id": "apart-partition",
   "metadata": {},
   "source": [
    "Check for all-zero lines at the end of the data array. These are unnecessary, remove all of them."
   ]
  },
  {
   "cell_type": "code",
   "execution_count": 41,
   "id": "artistic-george",
   "metadata": {},
   "outputs": [
    {
     "name": "stdout",
     "output_type": "stream",
     "text": [
      "(31406563, 3)\n",
      "(5152130, 3)\n",
      "(5152130, 2)\n"
     ]
    }
   ],
   "source": [
    "with h5py.File(path_to_hdf, 'r+') as f:\n",
    "    x = f[\"vdp_X\"]\n",
    "    y = f[\"vdp_Y\"]\n",
    "    print(x.shape)\n",
    "    length = np.where(x[:,0] == 0.0)[0][0]\n",
    "    x.resize((length, x.shape[1]))\n",
    "    y.resize((length, y.shape[1]))\n",
    "    print(x.shape)\n",
    "    print(y.shape)"
   ]
  }
 ],
 "metadata": {
  "kernelspec": {
   "display_name": "Python 3",
   "language": "python",
   "name": "python3"
  },
  "language_info": {
   "codemirror_mode": {
    "name": "ipython",
    "version": 3
   },
   "file_extension": ".py",
   "mimetype": "text/x-python",
   "name": "python",
   "nbconvert_exporter": "python",
   "pygments_lexer": "ipython3",
   "version": "3.9.1"
  }
 },
 "nbformat": 4,
 "nbformat_minor": 5
}
