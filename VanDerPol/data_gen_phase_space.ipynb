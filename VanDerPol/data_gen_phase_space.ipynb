{
 "cells": [
  {
   "cell_type": "markdown",
   "id": "first-verse",
   "metadata": {},
   "source": [
    "Generate learning data (Euler truncation errors) from random points on the phase space of the Van der Pol equation."
   ]
  },
  {
   "cell_type": "code",
   "execution_count": null,
   "id": "collect-plymouth",
   "metadata": {},
   "outputs": [],
   "source": [
    "import math\n",
    "import numpy as np\n",
    "import matplotlib.pyplot as plt\n",
    "import scipy.integrate\n",
    "import h5py"
   ]
  },
  {
   "cell_type": "code",
   "execution_count": null,
   "id": "wanted-permission",
   "metadata": {},
   "outputs": [],
   "source": [
    "mu = 1.5\n",
    "def vdp( t, x):\n",
    "    y = np.empty(x.shape)\n",
    "    y[0] = -mu*(x[1]*x[1]-1)*x[0]-x[1]\n",
    "    y[1] = x[0]\n",
    "    return y"
   ]
  },
  {
   "cell_type": "code",
   "execution_count": null,
   "id": "organized-bathroom",
   "metadata": {},
   "outputs": [],
   "source": [
    "#this cell takes some time to run\n",
    "np.random.seed(42) #fix seed for reproducibility\n",
    "no = int(4e6) #number of data to generate\n",
    "\n",
    "y_all = np.empty([no, 5])\n",
    "y = np.array([0.0, 0.0])\n",
    "for i in range(no):\n",
    "    if i%1e5==0:\n",
    "        print(i)\n",
    "    y[0] = np.random.rand() * 10 - 5\n",
    "    y[1] = np.random.rand() * 12 - 6\n",
    "    dt = math.pow(10, np.random.rand()*3 - 3)\n",
    "    rec_dt2 = 1/(dt*dt)\n",
    "    sol = scipy.integrate.solve_ivp(vdp, [0, dt], y, t_eval = [dt], rtol=1e-10, atol=1e-10)\n",
    "    dydt = vdp(0, y)\n",
    "    y_all[i,0] = dt\n",
    "    y_all[i,1] = y[0]\n",
    "    y_all[i,2] = y[1]\n",
    "    y_all[i,3] = rec_dt2*(sol.y[0] - y[0] - dt*dydt[0])\n",
    "    y_all[i,4] = rec_dt2*(sol.y[1] - y[1] - dt*dydt[1])\n",
    "print(y_all.shape)\n",
    "y_all[428295,:]"
   ]
  },
  {
   "cell_type": "markdown",
   "id": "digital-invite",
   "metadata": {},
   "source": [
    "Converting data and saving in hdf5 format"
   ]
  },
  {
   "cell_type": "code",
   "execution_count": null,
   "id": "alert-martial",
   "metadata": {},
   "outputs": [],
   "source": [
    "path_to_hdf = 'data/vdp_data_ps_dt.hdf5'"
   ]
  },
  {
   "cell_type": "code",
   "execution_count": null,
   "id": "monthly-scheme",
   "metadata": {},
   "outputs": [],
   "source": [
    "with h5py.File(path_to_hdf, 'a') as f:\n",
    "    f.create_dataset(\n",
    "        str('vdp_X'),\n",
    "        data    = y_all[:,0:3],\n",
    "        dtype   = np.float64,\n",
    "        compression     = 'gzip',\n",
    "        compression_opts= 8\n",
    "        )\n",
    "    f.create_dataset(\n",
    "        str('vdp_Y'),\n",
    "        data   = y_all[:,3:5],\n",
    "        dtype  = np.float64,\n",
    "        compression     = 'gzip',\n",
    "        compression_opts= 8\n",
    "        )\n"
   ]
  },
  {
   "cell_type": "code",
   "execution_count": null,
   "id": "sticky-ribbon",
   "metadata": {},
   "outputs": [],
   "source": [
    "f = h5py.File(path_to_hdf, 'r+')\n",
    "X = f['vdp_X']\n",
    "plt.figure(num=\"pl1\")\n",
    "plt.scatter(X[:,1], X[:,2]) "
   ]
  },
  {
   "cell_type": "code",
   "execution_count": null,
   "id": "declared-adelaide",
   "metadata": {},
   "outputs": [],
   "source": [
    "plt.figure(num=\"p123\")\n",
    "ax = plt.axes(projection =\"3d\")\n",
    "ax.scatter3D(X[:,0], X[:,1], X[:,2], color = \"green\")\n",
    "#plt.xscale('log')\n",
    "#ax.view_init(0,60)\n",
    "plt.show()"
   ]
  },
  {
   "cell_type": "code",
   "execution_count": null,
   "id": "guided-influence",
   "metadata": {},
   "outputs": [],
   "source": [
    "f.close()"
   ]
  }
 ],
 "metadata": {
  "kernelspec": {
   "display_name": "Python 3",
   "language": "python",
   "name": "python3"
  },
  "language_info": {
   "codemirror_mode": {
    "name": "ipython",
    "version": 3
   },
   "file_extension": ".py",
   "mimetype": "text/x-python",
   "name": "python",
   "nbconvert_exporter": "python",
   "pygments_lexer": "ipython3",
   "version": "3.9.1"
  }
 },
 "nbformat": 4,
 "nbformat_minor": 5
}
