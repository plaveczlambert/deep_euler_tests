{
 "cells": [
  {
   "cell_type": "markdown",
   "id": "regulation-bracelet",
   "metadata": {},
   "source": [
    "Generate learning data (Euler truncation errors) from a single trajectory of the Van der Pol equation."
   ]
  },
  {
   "cell_type": "code",
   "execution_count": 1,
   "id": "collect-plymouth",
   "metadata": {},
   "outputs": [],
   "source": [
    "import numpy as np\n",
    "import os\n",
    "import matplotlib.pyplot as plt\n",
    "import scipy.integrate\n",
    "import h5py"
   ]
  },
  {
   "cell_type": "code",
   "execution_count": 2,
   "id": "organized-bathroom",
   "metadata": {},
   "outputs": [],
   "source": [
    "mu = 1.5\n",
    "def vdp( t, x):\n",
    "    y = np.empty(x.shape)\n",
    "    y[0] = -mu*(x[1]*x[1]-1)*x[0]-x[1]\n",
    "    y[1] = x[0]\n",
    "    return y\n",
    "\n",
    "end = 15\n",
    "t = np.random.rand(1000)*end\n",
    "t = np.sort(t)\n",
    "sol = scipy.integrate.solve_ivp(vdp, [0, end], [1,1], t_eval=t, rtol=1e-10, atol=1e-10)\n",
    "\n",
    "dydt = vdp(t, sol.y)"
   ]
  },
  {
   "cell_type": "code",
   "execution_count": 3,
   "id": "fifty-occasions",
   "metadata": {},
   "outputs": [
    {
     "data": {
      "image/png": "[encoded data removed]",
      "text/plain": [
       "<Figure size 432x288 with 1 Axes>"
      ]
     },
     "metadata": {
      "needs_background": "light"
     },
     "output_type": "display_data"
    }
   ],
   "source": [
    "plt.figure(num=\"pl1\")\n",
    "plt.plot(sol.t,sol.y[0])\n",
    "plt.plot(sol.t,sol.y[1])\n",
    "plt.show()"
   ]
  },
  {
   "cell_type": "code",
   "execution_count": 9,
   "id": "forced-richards",
   "metadata": {},
   "outputs": [],
   "source": [
    "if not os.path.isdir('data'):\n",
    "    os.mkdir('data')\n",
    "np.savetxt('data/vdp_data.txt', np.column_stack((t, np.array(sol.y).T, dydt.T)))"
   ]
  },
  {
   "cell_type": "markdown",
   "id": "digital-invite",
   "metadata": {},
   "source": [
    "Converting data and saving in hdf5 format"
   ]
  },
  {
   "cell_type": "code",
   "execution_count": 10,
   "id": "attached-chancellor",
   "metadata": {},
   "outputs": [],
   "source": [
    "def euler_truncation_error(arr, output_size): \n",
    "    #t0 x1 x2 x3 z1 ... z8 dx1 dx2 dx3 dz1 ... dz8\n",
    "    #0   1  2  3 4       11 12  13  14  15      22\n",
    "    dt = arr[1:,0] - arr[:-1,0]\n",
    "    X = np.column_stack((arr[1:,0], arr[:-1,:1+output_size])) #t1 t0 x1(0) x2(0) x3(0) z(0)\n",
    "    dt_m = np.copy(dt)\n",
    "    for n in range(1,output_size):\n",
    "        dt_m = np.column_stack((dt_m,dt))\n",
    "    Y = np.reciprocal(dt_m*dt_m)*(arr[1:,1:output_size+1] - arr[:-1,1:output_size+1] - dt_m*arr[:-1, output_size+1:])\n",
    "    return X,Y"
   ]
  },
  {
   "cell_type": "code",
   "execution_count": 11,
   "id": "monthly-scheme",
   "metadata": {},
   "outputs": [],
   "source": [
    "path_to_hdf = 'data/vdp_data.hdf5'\n",
    "path_to_txt = 'data/vdp_data.txt'\n",
    "\n",
    "arr = np.loadtxt(path_to_txt, dtype=np.float64, delimiter=' ')\n",
    "\n",
    "dt = True #whether to use absolute time or time steps\n",
    "l = arr.shape[0]\n",
    "b = 1\n",
    "n = 1000\n",
    "sum = 0\n",
    "for i in range(b,n):\n",
    "    sum = sum + l - i - 1\n",
    "\n",
    "with h5py.File(path_to_hdf, 'a') as f:\n",
    "    f.create_dataset(\n",
    "        str('vdp_X'),\n",
    "        (sum,3 if dt else 4),\n",
    "        dtype   = np.float64,\n",
    "        compression     = 'gzip',\n",
    "        compression_opts= 6\n",
    "        )\n",
    "    f.create_dataset(\n",
    "        str('vdp_Y'),\n",
    "        (sum,2),\n",
    "        dtype   = np.float64,\n",
    "        compression     = 'gzip',\n",
    "        compression_opts= 6\n",
    "        )\n",
    "    begin = 0\n",
    "    end = l-1\n",
    "    X = f['vdp_X']\n",
    "    Y = f['vdp_Y']\n",
    "    x,y = euler_truncation_error(np.copy(arr[:][0::b]),2)\n",
    "    if dt: \n",
    "        x = np.column_stack((x[:,0] - x[:,1],x[:,2],x[:,3]))\n",
    "    X[begin:end,:] = x\n",
    "    Y[begin:end,:] = y\n",
    "    for i in range(b+1,n):\n",
    "        for j in range(i):\n",
    "            x,y = euler_truncation_error(np.copy(arr[:][j::i]), 2)\n",
    "            if dt: \n",
    "                x = np.column_stack((x[:,0] - x[:,1],x[:,2],x[:,3]))\n",
    "            begin = end\n",
    "            end = begin+x.shape[0]\n",
    "            X[begin:end,:] = x\n",
    "            Y[begin:end,:] = y\n",
    "        "
   ]
  }
 ],
 "metadata": {
  "kernelspec": {
   "display_name": "Python 3",
   "language": "python",
   "name": "python3"
  },
  "language_info": {
   "codemirror_mode": {
    "name": "ipython",
    "version": 3
   },
   "file_extension": ".py",
   "mimetype": "text/x-python",
   "name": "python",
   "nbconvert_exporter": "python",
   "pygments_lexer": "ipython3",
   "version": "3.9.1"
  }
 },
 "nbformat": 4,
 "nbformat_minor": 5
}
