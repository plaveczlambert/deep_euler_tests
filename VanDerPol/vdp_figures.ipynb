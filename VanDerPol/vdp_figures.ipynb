{
 "cells": [
  {
   "cell_type": "markdown",
   "id": "meaningful-interpretation",
   "metadata": {},
   "source": [
    "# Simulation and plotting"
   ]
  },
  {
   "cell_type": "code",
   "execution_count": null,
   "id": "popular-asset",
   "metadata": {},
   "outputs": [],
   "source": [
    "%matplotlib notebook\n",
    "import math\n",
    "import numpy as np\n",
    "import matplotlib.pyplot as plt\n",
    "import scipy.integrate\n",
    "import h5py\n",
    "from model.DEM import DeepEuler\n",
    "from model.Euler import Euler\n",
    "plt.rcParams.update({\n",
    "    \"text.usetex\": True,\n",
    "    \"font.family\": \"sans-serif\",\n",
    "    \"font.sans-serif\": [\"Helvetica\"],\n",
    "    \"font.size\": 12.0})"
   ]
  },
  {
   "cell_type": "code",
   "execution_count": null,
   "id": "illegal-malawi",
   "metadata": {},
   "outputs": [],
   "source": [
    "#Load results from text files, if C++ solvers were used\n",
    "#dem = np.loadtxt('simulations/vdp_dem_0.1_43.txt')\n",
    "#euler = np.loadtxt('simulations/vdp_euler_0.1.txt')"
   ]
  },
  {
   "cell_type": "code",
   "execution_count": null,
   "id": "common-double",
   "metadata": {},
   "outputs": [],
   "source": [
    "mu = 1.5\n",
    "def vdp( t, x):\n",
    "    y = np.empty(x.shape)\n",
    "    y[0] = -mu*(x[1]*x[1]-1)*x[0]-x[1]\n",
    "    y[1] = x[0]\n",
    "    return y"
   ]
  },
  {
   "cell_type": "markdown",
   "id": "short-breathing",
   "metadata": {},
   "source": [
    "## Integrate the ODE"
   ]
  },
  {
   "cell_type": "code",
   "execution_count": null,
   "id": "military-islam",
   "metadata": {},
   "outputs": [],
   "source": [
    "sol = scipy.integrate.solve_ivp(vdp, [0, 50], [ 1.0, 1.0], rtol=1e-10, atol=1e-10)"
   ]
  },
  {
   "cell_type": "code",
   "execution_count": null,
   "id": "guilty-safety",
   "metadata": {},
   "outputs": [],
   "source": [
    "eul_sol = scipy.integrate.solve_ivp(vdp, [0, 50], [ 1.0, 1.0], method=Euler, h=2**(-4))"
   ]
  },
  {
   "cell_type": "markdown",
   "id": "japanese-income",
   "metadata": {},
   "source": [
    "Change the *traced_model_path* and *scaler_path* to point to your trained model and its scaler"
   ]
  },
  {
   "cell_type": "code",
   "execution_count": null,
   "id": "split-country",
   "metadata": {},
   "outputs": [],
   "source": [
    "dem_sol = scipy.integrate.solve_ivp(vdp, [0, 50], [ 1.0, 1.0], method=DeepEuler, mode=DeepEuler.MODE_AUTONOMOUS, h=2**(-4),\n",
    "                                    traced_model_path=\"training/traced_model_vdp_final_e589_2109290802.pt\", \n",
    "                                    scaler_path=\"training/scaler_vdp_final_2109290802.psca\")"
   ]
  },
  {
   "cell_type": "markdown",
   "id": "collect-desire",
   "metadata": {},
   "source": [
    "## Plots"
   ]
  },
  {
   "cell_type": "code",
   "execution_count": null,
   "id": "concerned-chemical",
   "metadata": {
    "scrolled": true
   },
   "outputs": [],
   "source": [
    "plt.figure(num=\"PhaseSpace\",figsize=(8,6))\n",
    "plt.scatter(sol.y[1,:],sol.y[0,:], s=10, label=\"Dopri\")\n",
    "#plt.scatter(euler[:250,1],euler[:250,2],s=10, label=\"Euler\")\n",
    "plt.scatter(eul_sol.y[1,:],eul_sol.y[0,:], s=10, label=\"Euler\")\n",
    "plt.scatter(dem_sol.y[1,:],dem_sol.y[0,:], s=10, label=\"DEM\")\n",
    "#plt.scatter(dem[:,1],dem[:,2],s=10, label=\"DEM C++\")\n",
    "plt.xlabel(\"$x_2$\")\n",
    "plt.ylabel(\"$x_1$\")\n",
    "plt.legend()\n",
    "plt.show()"
   ]
  },
  {
   "cell_type": "code",
   "execution_count": null,
   "id": "important-police",
   "metadata": {},
   "outputs": [],
   "source": [
    "plt.figure(num=\"Comparison\")\n",
    "plt.plot(sol.t,sol.y[0,:], color=\"black\", label=\"Dopri\")\n",
    "#plt.plot(euler[:,0],euler[:,1], color=\"silver\", label=\"Euler\")\n",
    "plt.plot(eul_sol.t,eul_sol.y[0,:], color=\"purple\", label=\"Euler\")\n",
    "#plt.plot(dem[:,0],dem[:,1], linestyle=\"--\", dashes=(5,5), color=\"cyan\", label=\"DEM C++\")\n",
    "plt.plot(dem_sol.t,dem_sol.y[0,:], linestyle=\"--\", dashes=(5,5), color=\"orange\", label=\"DEM\")\n",
    "plt.xlabel(\"$t$\")\n",
    "plt.ylabel(\"$x_1$\")\n",
    "plt.xlim([0, 40])\n",
    "plt.ylim([-4,4])\n",
    "plt.legend()\n",
    "plt.show()"
   ]
  }
 ],
 "metadata": {
  "kernelspec": {
   "display_name": "Python 3",
   "language": "python",
   "name": "python3"
  },
  "language_info": {
   "codemirror_mode": {
    "name": "ipython",
    "version": 3
   },
   "file_extension": ".py",
   "mimetype": "text/x-python",
   "name": "python",
   "nbconvert_exporter": "python",
   "pygments_lexer": "ipython3",
   "version": "3.9.1"
  }
 },
 "nbformat": 4,
 "nbformat_minor": 5
}
